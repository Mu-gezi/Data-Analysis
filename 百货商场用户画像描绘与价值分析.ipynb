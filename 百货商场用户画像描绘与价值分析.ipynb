{
 "cells": [
  {
   "cell_type": "markdown",
   "metadata": {},
   "source": [
    "## 加载第三方库"
   ]
  },
  {
   "cell_type": "code",
   "execution_count": 2,
   "metadata": {
    "ExecuteTime": {
     "end_time": "2020-10-23T11:17:15.630004Z",
     "start_time": "2020-10-23T11:17:08.862053Z"
    }
   },
   "outputs": [],
   "source": [
    "import warnings\n",
    "warnings.filterwarnings('ignore')\n",
    "import os\n",
    "os.chdir(r'E:/pycharm codes/百货商场用户画像描绘与价值分析/data/data')\n",
    "import pandas as pd"
   ]
  },
  {
   "cell_type": "markdown",
   "metadata": {},
   "source": [
    "## 数据读取和数据探索"
   ]
  },
  {
   "cell_type": "code",
   "execution_count": 3,
   "metadata": {
    "ExecuteTime": {
     "end_time": "2020-10-23T11:17:51.332635Z",
     "start_time": "2020-10-23T11:17:20.351271Z"
    }
   },
   "outputs": [],
   "source": [
    "info_data = pd.read_excel('cumcm2018c1.xlsx')  # 会员信息表\n",
    "xs_data = pd.read_csv('cumcm2018c2.csv')  # 销售流水表"
   ]
  },
  {
   "cell_type": "code",
   "execution_count": 4,
   "metadata": {
    "ExecuteTime": {
     "end_time": "2020-10-23T11:17:55.997278Z",
     "start_time": "2020-10-23T11:17:55.857260Z"
    }
   },
   "outputs": [
    {
     "data": {
      "text/html": [
       "<div>\n",
       "<style scoped>\n",
       "    .dataframe tbody tr th:only-of-type {\n",
       "        vertical-align: middle;\n",
       "    }\n",
       "\n",
       "    .dataframe tbody tr th {\n",
       "        vertical-align: top;\n",
       "    }\n",
       "\n",
       "    .dataframe thead th {\n",
       "        text-align: right;\n",
       "    }\n",
       "</style>\n",
       "<table border=\"1\" class=\"dataframe\">\n",
       "  <thead>\n",
       "    <tr style=\"text-align: right;\">\n",
       "      <th></th>\n",
       "      <th>kh</th>\n",
       "      <th>csrq</th>\n",
       "      <th>xb</th>\n",
       "      <th>djsj</th>\n",
       "    </tr>\n",
       "  </thead>\n",
       "  <tbody>\n",
       "    <tr>\n",
       "      <td>0</td>\n",
       "      <td>c68b20b4</td>\n",
       "      <td>2002-11-02</td>\n",
       "      <td>0.0</td>\n",
       "      <td>2013-05-11 00:00:00.000</td>\n",
       "    </tr>\n",
       "    <tr>\n",
       "      <td>1</td>\n",
       "      <td>1ca15332</td>\n",
       "      <td>NaT</td>\n",
       "      <td>0.0</td>\n",
       "      <td>2004-11-04 16:31:52.436</td>\n",
       "    </tr>\n",
       "    <tr>\n",
       "      <td>2</td>\n",
       "      <td>a37cc182</td>\n",
       "      <td>1967-02-17</td>\n",
       "      <td>0.0</td>\n",
       "      <td>2004-12-31 21:24:34.216</td>\n",
       "    </tr>\n",
       "    <tr>\n",
       "      <td>3</td>\n",
       "      <td>2ab88539</td>\n",
       "      <td>1982-06-01</td>\n",
       "      <td>0.0</td>\n",
       "      <td>2010-11-19 00:00:00.000</td>\n",
       "    </tr>\n",
       "    <tr>\n",
       "      <td>4</td>\n",
       "      <td>b4c77269</td>\n",
       "      <td>1964-02-05</td>\n",
       "      <td>0.0</td>\n",
       "      <td>2007-12-14 00:00:00.000</td>\n",
       "    </tr>\n",
       "  </tbody>\n",
       "</table>\n",
       "</div>"
      ],
      "text/plain": [
       "         kh       csrq   xb                    djsj\n",
       "0  c68b20b4 2002-11-02  0.0 2013-05-11 00:00:00.000\n",
       "1  1ca15332        NaT  0.0 2004-11-04 16:31:52.436\n",
       "2  a37cc182 1967-02-17  0.0 2004-12-31 21:24:34.216\n",
       "3  2ab88539 1982-06-01  0.0 2010-11-19 00:00:00.000\n",
       "4  b4c77269 1964-02-05  0.0 2007-12-14 00:00:00.000"
      ]
     },
     "execution_count": 4,
     "metadata": {},
     "output_type": "execute_result"
    }
   ],
   "source": [
    "info_data.head()"
   ]
  },
  {
   "cell_type": "code",
   "execution_count": 5,
   "metadata": {
    "ExecuteTime": {
     "end_time": "2020-10-23T11:17:56.930099Z",
     "start_time": "2020-10-23T11:17:56.908773Z"
    }
   },
   "outputs": [
    {
     "data": {
      "text/html": [
       "<div>\n",
       "<style scoped>\n",
       "    .dataframe tbody tr th:only-of-type {\n",
       "        vertical-align: middle;\n",
       "    }\n",
       "\n",
       "    .dataframe tbody tr th {\n",
       "        vertical-align: top;\n",
       "    }\n",
       "\n",
       "    .dataframe thead th {\n",
       "        text-align: right;\n",
       "    }\n",
       "</style>\n",
       "<table border=\"1\" class=\"dataframe\">\n",
       "  <thead>\n",
       "    <tr style=\"text-align: right;\">\n",
       "      <th></th>\n",
       "      <th>kh</th>\n",
       "      <th>dtime</th>\n",
       "      <th>spbm</th>\n",
       "      <th>sl</th>\n",
       "      <th>sj</th>\n",
       "      <th>je</th>\n",
       "      <th>spmc</th>\n",
       "      <th>jf</th>\n",
       "      <th>syjh</th>\n",
       "      <th>djh</th>\n",
       "      <th>gzbm</th>\n",
       "      <th>gzmc</th>\n",
       "    </tr>\n",
       "  </thead>\n",
       "  <tbody>\n",
       "    <tr>\n",
       "      <td>0</td>\n",
       "      <td>1be1e3fe</td>\n",
       "      <td>2015-01-01 00:05:41.593</td>\n",
       "      <td>f09c9303</td>\n",
       "      <td>1</td>\n",
       "      <td>290.0</td>\n",
       "      <td>270.20</td>\n",
       "      <td>兰芝化妆品正价瓶</td>\n",
       "      <td>270.20</td>\n",
       "      <td>6</td>\n",
       "      <td>25bb</td>\n",
       "      <td>8077.0</td>\n",
       "      <td>兰芝柜</td>\n",
       "    </tr>\n",
       "    <tr>\n",
       "      <td>1</td>\n",
       "      <td>1be1e3fe</td>\n",
       "      <td>2015-01-01 00:05:41.593</td>\n",
       "      <td>f09c9303</td>\n",
       "      <td>1</td>\n",
       "      <td>325.0</td>\n",
       "      <td>302.80</td>\n",
       "      <td>兰芝化妆品正价瓶</td>\n",
       "      <td>302.80</td>\n",
       "      <td>6</td>\n",
       "      <td>25bb</td>\n",
       "      <td>8077.0</td>\n",
       "      <td>兰芝柜</td>\n",
       "    </tr>\n",
       "    <tr>\n",
       "      <td>2</td>\n",
       "      <td>1be1e3fe</td>\n",
       "      <td>2015-01-01 00:05:41.593</td>\n",
       "      <td>f09c9303</td>\n",
       "      <td>1</td>\n",
       "      <td>195.0</td>\n",
       "      <td>181.80</td>\n",
       "      <td>兰芝化妆品正价瓶</td>\n",
       "      <td>181.80</td>\n",
       "      <td>6</td>\n",
       "      <td>25bb</td>\n",
       "      <td>8077.0</td>\n",
       "      <td>兰芝柜</td>\n",
       "    </tr>\n",
       "    <tr>\n",
       "      <td>3</td>\n",
       "      <td>1be1e3fe</td>\n",
       "      <td>2015-01-01 00:05:41.593</td>\n",
       "      <td>f09c9303</td>\n",
       "      <td>1</td>\n",
       "      <td>270.0</td>\n",
       "      <td>251.55</td>\n",
       "      <td>兰芝化妆品正价瓶</td>\n",
       "      <td>251.55</td>\n",
       "      <td>6</td>\n",
       "      <td>25bb</td>\n",
       "      <td>8077.0</td>\n",
       "      <td>兰芝柜</td>\n",
       "    </tr>\n",
       "    <tr>\n",
       "      <td>4</td>\n",
       "      <td>1be1e3fe</td>\n",
       "      <td>2015-01-01 00:05:41.593</td>\n",
       "      <td>f09c9303</td>\n",
       "      <td>2</td>\n",
       "      <td>245.0</td>\n",
       "      <td>456.55</td>\n",
       "      <td>兰芝化妆品正价瓶</td>\n",
       "      <td>456.55</td>\n",
       "      <td>6</td>\n",
       "      <td>25bb</td>\n",
       "      <td>8077.0</td>\n",
       "      <td>兰芝柜</td>\n",
       "    </tr>\n",
       "  </tbody>\n",
       "</table>\n",
       "</div>"
      ],
      "text/plain": [
       "         kh                    dtime      spbm  sl     sj      je      spmc  \\\n",
       "0  1be1e3fe  2015-01-01 00:05:41.593  f09c9303   1  290.0  270.20  兰芝化妆品正价瓶   \n",
       "1  1be1e3fe  2015-01-01 00:05:41.593  f09c9303   1  325.0  302.80  兰芝化妆品正价瓶   \n",
       "2  1be1e3fe  2015-01-01 00:05:41.593  f09c9303   1  195.0  181.80  兰芝化妆品正价瓶   \n",
       "3  1be1e3fe  2015-01-01 00:05:41.593  f09c9303   1  270.0  251.55  兰芝化妆品正价瓶   \n",
       "4  1be1e3fe  2015-01-01 00:05:41.593  f09c9303   2  245.0  456.55  兰芝化妆品正价瓶   \n",
       "\n",
       "       jf  syjh   djh    gzbm gzmc  \n",
       "0  270.20     6  25bb  8077.0  兰芝柜  \n",
       "1  302.80     6  25bb  8077.0  兰芝柜  \n",
       "2  181.80     6  25bb  8077.0  兰芝柜  \n",
       "3  251.55     6  25bb  8077.0  兰芝柜  \n",
       "4  456.55     6  25bb  8077.0  兰芝柜  "
      ]
     },
     "execution_count": 5,
     "metadata": {},
     "output_type": "execute_result"
    }
   ],
   "source": [
    "xs_data.head()"
   ]
  },
  {
   "cell_type": "code",
   "execution_count": 6,
   "metadata": {
    "ExecuteTime": {
     "end_time": "2020-10-23T11:17:58.805984Z",
     "start_time": "2020-10-23T11:17:57.868830Z"
    },
    "scrolled": true
   },
   "outputs": [
    {
     "name": "stdout",
     "output_type": "stream",
     "text": [
      "会员信息表的缺失值情况：\n",
      " kh          0\n",
      "csrq    34188\n",
      "xb       9435\n",
      "djsj    12681\n",
      "dtype: int64\n",
      "销售流水表的缺失值情况：\n",
      " kh       1017486\n",
      "dtime          0\n",
      "spbm           0\n",
      "sl             0\n",
      "sj             0\n",
      "je             0\n",
      "spmc           0\n",
      "jf       1017486\n",
      "syjh           0\n",
      "djh            0\n",
      "gzbm     1017486\n",
      "gzmc     1036956\n",
      "dtype: int64\n"
     ]
    }
   ],
   "source": [
    "#查看缺失值\n",
    "print('会员信息表的缺失值情况：\\n',info_data.isnull().sum())\n",
    "print('销售流水表的缺失值情况：\\n',xs_data.isnull().sum())"
   ]
  },
  {
   "cell_type": "code",
   "execution_count": 7,
   "metadata": {
    "ExecuteTime": {
     "end_time": "2020-10-23T11:17:59.986577Z",
     "start_time": "2020-10-23T11:17:59.973283Z"
    }
   },
   "outputs": [
    {
     "data": {
      "text/plain": [
       "kh              object\n",
       "csrq    datetime64[ns]\n",
       "xb             float64\n",
       "djsj    datetime64[ns]\n",
       "dtype: object"
      ]
     },
     "execution_count": 7,
     "metadata": {},
     "output_type": "execute_result"
    }
   ],
   "source": [
    "info_data.dtypes"
   ]
  },
  {
   "cell_type": "code",
   "execution_count": 8,
   "metadata": {
    "ExecuteTime": {
     "end_time": "2020-10-23T11:18:01.151079Z",
     "start_time": "2020-10-23T11:18:01.135055Z"
    }
   },
   "outputs": [
    {
     "data": {
      "text/plain": [
       "kh        object\n",
       "dtime     object\n",
       "spbm      object\n",
       "sl         int64\n",
       "sj       float64\n",
       "je       float64\n",
       "spmc      object\n",
       "jf       float64\n",
       "syjh       int64\n",
       "djh       object\n",
       "gzbm     float64\n",
       "gzmc      object\n",
       "dtype: object"
      ]
     },
     "execution_count": 8,
     "metadata": {},
     "output_type": "execute_result"
    }
   ],
   "source": [
    "xs_data.dtypes"
   ]
  },
  {
   "cell_type": "markdown",
   "metadata": {},
   "source": [
    "## 数据预处理"
   ]
  },
  {
   "cell_type": "code",
   "execution_count": 9,
   "metadata": {
    "ExecuteTime": {
     "end_time": "2020-10-23T11:18:02.713364Z",
     "start_time": "2020-10-23T11:18:02.706746Z"
    }
   },
   "outputs": [],
   "source": [
    "# 设置列名\n",
    "info_data.columns = ['会员卡号','出生日期','性别','登记时间']\n",
    "xs_data.columns = ['会员卡号','消费产生的时间','商品编码','销售数量','商品售价','消费金额','商品名称','此次消费的会员积分','收银机号','单据号','柜组编码','柜组名称']"
   ]
  },
  {
   "cell_type": "markdown",
   "metadata": {},
   "source": [
    "### 会员信息表"
   ]
  },
  {
   "cell_type": "code",
   "execution_count": 10,
   "metadata": {
    "ExecuteTime": {
     "end_time": "2020-10-23T11:18:04.402485Z",
     "start_time": "2020-10-23T11:18:04.285617Z"
    }
   },
   "outputs": [
    {
     "name": "stdout",
     "output_type": "stream",
     "text": [
      "删除缺失值前的数据形状： (194740, 4)\n",
      "缺失值统计： 会员卡号        0\n",
      "出生日期    34188\n",
      "性别       9435\n",
      "登记时间    12681\n",
      "dtype: int64\n",
      "删除空值后的数据形状： (153475, 4)\n",
      "缺失值统计： 会员卡号    0\n",
      "出生日期    0\n",
      "性别      0\n",
      "登记时间    0\n",
      "dtype: int64\n"
     ]
    }
   ],
   "source": [
    "## 缺失值处理\n",
    "print('删除缺失值前的数据形状：',info_data.shape)\n",
    "print('缺失值统计：',info_data.isnull().sum())\n",
    "info_data = info_data.dropna()\n",
    "print('删除空值后的数据形状：',info_data.shape)\n",
    "print('缺失值统计：',info_data.isnull().sum())"
   ]
  },
  {
   "cell_type": "code",
   "execution_count": 11,
   "metadata": {
    "ExecuteTime": {
     "end_time": "2020-10-23T11:18:05.895482Z",
     "start_time": "2020-10-23T11:18:05.605825Z"
    }
   },
   "outputs": [
    {
     "name": "stdout",
     "output_type": "stream",
     "text": [
      "(153475, 4)\n",
      "(153475, 4)\n"
     ]
    }
   ],
   "source": [
    "## 去重\n",
    "print(info_data.shape)\n",
    "print(info_data.drop_duplicates().shape) #行数减少，则说明有重复的会员号出现\n",
    "info_data = info_data.drop_duplicates()"
   ]
  },
  {
   "cell_type": "code",
   "execution_count": 12,
   "metadata": {
    "ExecuteTime": {
     "end_time": "2020-10-23T11:18:08.288349Z",
     "start_time": "2020-10-23T11:18:06.863803Z"
    }
   },
   "outputs": [
    {
     "data": {
      "text/plain": [
       "0        2002-11-02\n",
       "2        1967-02-17\n",
       "3        1982-06-01\n",
       "4        1964-02-05\n",
       "5        1968-06-18\n",
       "            ...    \n",
       "194729   1993-06-24\n",
       "194731   1979-04-23\n",
       "194732   1981-03-02\n",
       "194738   1973-01-10\n",
       "194739   1964-08-11\n",
       "Name: 出生日期, Length: 153475, dtype: datetime64[ns]"
      ]
     },
     "execution_count": 12,
     "metadata": {},
     "output_type": "execute_result"
    }
   ],
   "source": [
    "## 日期数据转换\n",
    "info_data['出生日期'] = info_data['出生日期'].apply(lambda x: pd.to_datetime(x) if type(x)==str else x)\n",
    "# info_data['出生日期'] = pd.to_datetime(info_data['出生日期'],errors = 'ignore')\n",
    "info_data['出生日期']"
   ]
  },
  {
   "cell_type": "code",
   "execution_count": 13,
   "metadata": {
    "ExecuteTime": {
     "end_time": "2020-10-23T11:18:09.436213Z",
     "start_time": "2020-10-23T11:18:09.413922Z"
    }
   },
   "outputs": [],
   "source": [
    "## 剔除会员登记时间早于会员出生年月的数据\n",
    "info_data = info_data[info_data['登记时间']>info_data['出生日期']] "
   ]
  },
  {
   "cell_type": "code",
   "execution_count": 14,
   "metadata": {
    "ExecuteTime": {
     "end_time": "2020-10-23T11:18:11.026122Z",
     "start_time": "2020-10-23T11:18:10.436835Z"
    }
   },
   "outputs": [],
   "source": [
    "## 2.1.4 同一会员多个登记时间只保留最早的记录\n",
    "count_kh = info_data['会员卡号'].value_counts()\n",
    "count_kh = count_kh[count_kh>1]\n",
    "for i in count_kh.index:\n",
    "    max_data = info_data[info_data['会员卡号']==i]['登记时间'].max()\n",
    "    indexs = info_data[(info_data['会员卡号']==i) & (info_data['登记时间'] !=max_data)].index\n",
    "    info_data = info_data.drop(indexs)"
   ]
  },
  {
   "cell_type": "code",
   "execution_count": 15,
   "metadata": {
    "ExecuteTime": {
     "end_time": "2020-10-23T11:18:11.788666Z",
     "start_time": "2020-10-23T11:18:11.774017Z"
    }
   },
   "outputs": [
    {
     "data": {
      "text/plain": [
       "(153449, 4)"
      ]
     },
     "execution_count": 15,
     "metadata": {},
     "output_type": "execute_result"
    }
   ],
   "source": [
    "info_data.shape"
   ]
  },
  {
   "cell_type": "markdown",
   "metadata": {},
   "source": [
    "### 销售流水表"
   ]
  },
  {
   "cell_type": "code",
   "execution_count": 16,
   "metadata": {
    "ExecuteTime": {
     "end_time": "2020-10-23T11:18:16.439471Z",
     "start_time": "2020-10-23T11:18:13.703499Z"
    }
   },
   "outputs": [],
   "source": [
    "## 日期数据转换\n",
    "xs_data['消费产生的时间'] = pd.to_datetime(xs_data['消费产生的时间'])"
   ]
  },
  {
   "cell_type": "code",
   "execution_count": 17,
   "metadata": {
    "ExecuteTime": {
     "end_time": "2020-10-23T11:18:18.095805Z",
     "start_time": "2020-10-23T11:18:17.365447Z"
    }
   },
   "outputs": [],
   "source": [
    "## 剔除销售数量为负值的销售记录，剔除消费金额为0或负值的销售记录\n",
    "xs_data = xs_data[xs_data['销售数量']>0] \n",
    "xs_data = xs_data[xs_data['消费金额']>0]"
   ]
  },
  {
   "cell_type": "code",
   "execution_count": 18,
   "metadata": {
    "ExecuteTime": {
     "end_time": "2020-10-23T11:18:22.803565Z",
     "start_time": "2020-10-23T11:18:18.803880Z"
    }
   },
   "outputs": [
    {
     "name": "stdout",
     "output_type": "stream",
     "text": [
      "(1861251, 12)\n",
      "(1861251, 12)\n"
     ]
    }
   ],
   "source": [
    "#去重\n",
    "print(xs_data.shape)\n",
    "print(xs_data.drop_duplicates().shape) #行数没有减少，说明不存在重复的行"
   ]
  },
  {
   "cell_type": "code",
   "execution_count": 19,
   "metadata": {
    "ExecuteTime": {
     "end_time": "2020-10-23T11:18:23.560044Z",
     "start_time": "2020-10-23T11:18:23.553594Z"
    }
   },
   "outputs": [
    {
     "name": "stdout",
     "output_type": "stream",
     "text": [
      "删除空值后的数据形状： (1861251, 12)\n"
     ]
    }
   ],
   "source": [
    "print('删除空值后的数据形状：',xs_data.shape)"
   ]
  },
  {
   "cell_type": "markdown",
   "metadata": {},
   "source": [
    "### 数据合并"
   ]
  },
  {
   "cell_type": "code",
   "execution_count": 20,
   "metadata": {
    "ExecuteTime": {
     "end_time": "2020-10-23T11:19:23.533730Z",
     "start_time": "2020-10-23T11:18:25.720601Z"
    }
   },
   "outputs": [],
   "source": [
    "## 将会员信息表与销售流水表进行合并,采用外连接合并方式\n",
    "data = xs_data.merge(info_data, how='outer')\n",
    "data.to_csv('task1.csv', index=False, encoding='gbk')"
   ]
  },
  {
   "cell_type": "code",
   "execution_count": 21,
   "metadata": {
    "ExecuteTime": {
     "end_time": "2020-10-23T11:19:30.686862Z",
     "start_time": "2020-10-23T11:19:30.680722Z"
    }
   },
   "outputs": [
    {
     "name": "stdout",
     "output_type": "stream",
     "text": [
      "预处理后数据的大小： (1973797, 15)\n"
     ]
    }
   ],
   "source": [
    "print('预处理后数据的大小：',data.shape)"
   ]
  },
  {
   "cell_type": "code",
   "execution_count": 22,
   "metadata": {
    "ExecuteTime": {
     "end_time": "2020-10-23T11:19:32.612281Z",
     "start_time": "2020-10-23T11:19:32.586592Z"
    }
   },
   "outputs": [
    {
     "data": {
      "text/html": [
       "<div>\n",
       "<style scoped>\n",
       "    .dataframe tbody tr th:only-of-type {\n",
       "        vertical-align: middle;\n",
       "    }\n",
       "\n",
       "    .dataframe tbody tr th {\n",
       "        vertical-align: top;\n",
       "    }\n",
       "\n",
       "    .dataframe thead th {\n",
       "        text-align: right;\n",
       "    }\n",
       "</style>\n",
       "<table border=\"1\" class=\"dataframe\">\n",
       "  <thead>\n",
       "    <tr style=\"text-align: right;\">\n",
       "      <th></th>\n",
       "      <th>会员卡号</th>\n",
       "      <th>消费产生的时间</th>\n",
       "      <th>商品编码</th>\n",
       "      <th>销售数量</th>\n",
       "      <th>商品售价</th>\n",
       "      <th>消费金额</th>\n",
       "      <th>商品名称</th>\n",
       "      <th>此次消费的会员积分</th>\n",
       "      <th>收银机号</th>\n",
       "      <th>单据号</th>\n",
       "      <th>柜组编码</th>\n",
       "      <th>柜组名称</th>\n",
       "      <th>出生日期</th>\n",
       "      <th>性别</th>\n",
       "      <th>登记时间</th>\n",
       "    </tr>\n",
       "  </thead>\n",
       "  <tbody>\n",
       "    <tr>\n",
       "      <td>0</td>\n",
       "      <td>1be1e3fe</td>\n",
       "      <td>2015-01-01 00:05:41.593</td>\n",
       "      <td>f09c9303</td>\n",
       "      <td>1.0</td>\n",
       "      <td>290.0</td>\n",
       "      <td>270.20</td>\n",
       "      <td>兰芝化妆品正价瓶</td>\n",
       "      <td>270.20</td>\n",
       "      <td>6.0</td>\n",
       "      <td>25bb</td>\n",
       "      <td>8077.0</td>\n",
       "      <td>兰芝柜</td>\n",
       "      <td>NaT</td>\n",
       "      <td>NaN</td>\n",
       "      <td>NaT</td>\n",
       "    </tr>\n",
       "    <tr>\n",
       "      <td>1</td>\n",
       "      <td>1be1e3fe</td>\n",
       "      <td>2015-01-01 00:05:41.593</td>\n",
       "      <td>f09c9303</td>\n",
       "      <td>1.0</td>\n",
       "      <td>325.0</td>\n",
       "      <td>302.80</td>\n",
       "      <td>兰芝化妆品正价瓶</td>\n",
       "      <td>302.80</td>\n",
       "      <td>6.0</td>\n",
       "      <td>25bb</td>\n",
       "      <td>8077.0</td>\n",
       "      <td>兰芝柜</td>\n",
       "      <td>NaT</td>\n",
       "      <td>NaN</td>\n",
       "      <td>NaT</td>\n",
       "    </tr>\n",
       "    <tr>\n",
       "      <td>2</td>\n",
       "      <td>1be1e3fe</td>\n",
       "      <td>2015-01-01 00:05:41.593</td>\n",
       "      <td>f09c9303</td>\n",
       "      <td>1.0</td>\n",
       "      <td>195.0</td>\n",
       "      <td>181.80</td>\n",
       "      <td>兰芝化妆品正价瓶</td>\n",
       "      <td>181.80</td>\n",
       "      <td>6.0</td>\n",
       "      <td>25bb</td>\n",
       "      <td>8077.0</td>\n",
       "      <td>兰芝柜</td>\n",
       "      <td>NaT</td>\n",
       "      <td>NaN</td>\n",
       "      <td>NaT</td>\n",
       "    </tr>\n",
       "    <tr>\n",
       "      <td>3</td>\n",
       "      <td>1be1e3fe</td>\n",
       "      <td>2015-01-01 00:05:41.593</td>\n",
       "      <td>f09c9303</td>\n",
       "      <td>1.0</td>\n",
       "      <td>270.0</td>\n",
       "      <td>251.55</td>\n",
       "      <td>兰芝化妆品正价瓶</td>\n",
       "      <td>251.55</td>\n",
       "      <td>6.0</td>\n",
       "      <td>25bb</td>\n",
       "      <td>8077.0</td>\n",
       "      <td>兰芝柜</td>\n",
       "      <td>NaT</td>\n",
       "      <td>NaN</td>\n",
       "      <td>NaT</td>\n",
       "    </tr>\n",
       "    <tr>\n",
       "      <td>4</td>\n",
       "      <td>1be1e3fe</td>\n",
       "      <td>2015-01-01 00:05:41.593</td>\n",
       "      <td>f09c9303</td>\n",
       "      <td>2.0</td>\n",
       "      <td>245.0</td>\n",
       "      <td>456.55</td>\n",
       "      <td>兰芝化妆品正价瓶</td>\n",
       "      <td>456.55</td>\n",
       "      <td>6.0</td>\n",
       "      <td>25bb</td>\n",
       "      <td>8077.0</td>\n",
       "      <td>兰芝柜</td>\n",
       "      <td>NaT</td>\n",
       "      <td>NaN</td>\n",
       "      <td>NaT</td>\n",
       "    </tr>\n",
       "  </tbody>\n",
       "</table>\n",
       "</div>"
      ],
      "text/plain": [
       "       会员卡号                 消费产生的时间      商品编码  销售数量   商品售价    消费金额      商品名称  \\\n",
       "0  1be1e3fe 2015-01-01 00:05:41.593  f09c9303   1.0  290.0  270.20  兰芝化妆品正价瓶   \n",
       "1  1be1e3fe 2015-01-01 00:05:41.593  f09c9303   1.0  325.0  302.80  兰芝化妆品正价瓶   \n",
       "2  1be1e3fe 2015-01-01 00:05:41.593  f09c9303   1.0  195.0  181.80  兰芝化妆品正价瓶   \n",
       "3  1be1e3fe 2015-01-01 00:05:41.593  f09c9303   1.0  270.0  251.55  兰芝化妆品正价瓶   \n",
       "4  1be1e3fe 2015-01-01 00:05:41.593  f09c9303   2.0  245.0  456.55  兰芝化妆品正价瓶   \n",
       "\n",
       "   此次消费的会员积分  收银机号   单据号    柜组编码 柜组名称 出生日期  性别 登记时间  \n",
       "0     270.20   6.0  25bb  8077.0  兰芝柜  NaT NaN  NaT  \n",
       "1     302.80   6.0  25bb  8077.0  兰芝柜  NaT NaN  NaT  \n",
       "2     181.80   6.0  25bb  8077.0  兰芝柜  NaT NaN  NaT  \n",
       "3     251.55   6.0  25bb  8077.0  兰芝柜  NaT NaN  NaT  \n",
       "4     456.55   6.0  25bb  8077.0  兰芝柜  NaT NaN  NaT  "
      ]
     },
     "execution_count": 22,
     "metadata": {},
     "output_type": "execute_result"
    }
   ],
   "source": [
    "data.head()"
   ]
  },
  {
   "cell_type": "markdown",
   "metadata": {},
   "source": [
    "## 描述性统计分析和可视化"
   ]
  },
  {
   "cell_type": "markdown",
   "metadata": {},
   "source": [
    "### 加载第三方库"
   ]
  },
  {
   "cell_type": "code",
   "execution_count": 23,
   "metadata": {
    "ExecuteTime": {
     "end_time": "2020-10-23T11:19:36.721453Z",
     "start_time": "2020-10-23T11:19:34.982950Z"
    }
   },
   "outputs": [
    {
     "name": "stdout",
     "output_type": "stream",
     "text": [
      "['bmh', 'classic', 'dark_background', 'fast', 'fivethirtyeight', 'ggplot', 'grayscale', 'seaborn-bright', 'seaborn-colorblind', 'seaborn-dark-palette', 'seaborn-dark', 'seaborn-darkgrid', 'seaborn-deep', 'seaborn-muted', 'seaborn-notebook', 'seaborn-paper', 'seaborn-pastel', 'seaborn-poster', 'seaborn-talk', 'seaborn-ticks', 'seaborn-white', 'seaborn-whitegrid', 'seaborn', 'Solarize_Light2', 'tableau-colorblind10', '_classic_test']\n"
     ]
    }
   ],
   "source": [
    "import os\n",
    "os.chdir(r'E:/pycharm codes/百货商场用户画像描绘与价值分析/data/data')\n",
    "import pandas as pd\n",
    "import datetime\n",
    "import warnings\n",
    "import matplotlib.pyplot as plt\n",
    "warnings.filterwarnings('ignore')\n",
    "plt.rcParams['font.sans-serif'] = ['SimHei']  # 用来正常显示中文标签\n",
    "plt.rcParams['axes.unicode_minus'] = False  # 用来正常显示负号\n",
    "plt.style.use('ggplot') # 定义绘图风格\n",
    "print(plt.style.available) # 查看所有系统定义的绘图风格"
   ]
  },
  {
   "cell_type": "markdown",
   "metadata": {},
   "source": [
    "### 分析会员的年龄构成、男女比例等基本信息"
   ]
  },
  {
   "cell_type": "code",
   "execution_count": 24,
   "metadata": {
    "ExecuteTime": {
     "end_time": "2020-10-23T11:19:52.481654Z",
     "start_time": "2020-10-23T11:19:39.004945Z"
    }
   },
   "outputs": [],
   "source": [
    "xs_data = pd.read_csv('task1.csv', encoding='gbk') # 销售数据\n",
    "# 日期数据处理\n",
    "xs_data['消费产生的时间'] = pd.to_datetime(xs_data['消费产生的时间'])\n",
    "xs_data['登记时间'] = pd.to_datetime(xs_data['登记时间'],errors='ignore')\n",
    "xs_data['出生日期'] = pd.to_datetime(xs_data['出生日期'])"
   ]
  },
  {
   "cell_type": "code",
   "execution_count": 25,
   "metadata": {
    "ExecuteTime": {
     "end_time": "2020-10-23T11:21:13.804439Z",
     "start_time": "2020-10-23T11:20:29.404133Z"
    }
   },
   "outputs": [],
   "source": [
    "## 提取时间信息\n",
    "date = xs_data['消费产生的时间'].max()\n",
    "xs_data['时刻'] = xs_data['消费产生的时间'].apply(lambda x: x.hour)\n",
    "xs_data['月份'] = xs_data['消费产生的时间'].apply(lambda x: x.month)\n",
    "xs_data['年份'] = xs_data['消费产生的时间'].apply(lambda x: str(x.year))"
   ]
  },
  {
   "cell_type": "code",
   "execution_count": 26,
   "metadata": {
    "ExecuteTime": {
     "end_time": "2020-10-23T11:21:17.877593Z",
     "start_time": "2020-10-23T11:21:17.399014Z"
    }
   },
   "outputs": [
    {
     "data": {
      "text/plain": [
       "2016    833792\n",
       "2017    781227\n",
       "2015    240798\n",
       "nan     112546\n",
       "2018      5434\n",
       "Name: 年份, dtype: int64"
      ]
     },
     "execution_count": 26,
     "metadata": {},
     "output_type": "execute_result"
    }
   ],
   "source": [
    "xs_data['年份'].value_counts()"
   ]
  },
  {
   "cell_type": "code",
   "execution_count": 27,
   "metadata": {
    "ExecuteTime": {
     "end_time": "2020-10-23T11:21:19.507249Z",
     "start_time": "2020-10-23T11:21:19.455579Z"
    }
   },
   "outputs": [
    {
     "data": {
      "text/plain": [
       "1.0     211957\n",
       "3.0     207747\n",
       "5.0     191429\n",
       "8.0     185200\n",
       "2.0     169688\n",
       "4.0     158824\n",
       "7.0     152703\n",
       "6.0     146645\n",
       "9.0     139871\n",
       "11.0    119653\n",
       "12.0     92576\n",
       "10.0     84958\n",
       "Name: 月份, dtype: int64"
      ]
     },
     "execution_count": 27,
     "metadata": {},
     "output_type": "execute_result"
    }
   ],
   "source": [
    "xs_data['月份'].value_counts()"
   ]
  },
  {
   "cell_type": "code",
   "execution_count": 28,
   "metadata": {
    "ExecuteTime": {
     "end_time": "2020-10-23T11:21:20.792431Z",
     "start_time": "2020-10-23T11:21:20.743529Z"
    }
   },
   "outputs": [
    {
     "data": {
      "text/plain": [
       "16.0    212132\n",
       "15.0    201078\n",
       "17.0    187103\n",
       "14.0    180506\n",
       "13.0    158243\n",
       "18.0    153479\n",
       "20.0    147022\n",
       "12.0    142507\n",
       "19.0    134764\n",
       "21.0    126787\n",
       "11.0    116767\n",
       "10.0     68077\n",
       "22.0     24157\n",
       "23.0      7721\n",
       "9.0        722\n",
       "0.0        143\n",
       "1.0         36\n",
       "2.0          7\n",
       "Name: 时刻, dtype: int64"
      ]
     },
     "execution_count": 28,
     "metadata": {},
     "output_type": "execute_result"
    }
   ],
   "source": [
    "xs_data['时刻'].value_counts()"
   ]
  },
  {
   "cell_type": "code",
   "execution_count": 29,
   "metadata": {
    "ExecuteTime": {
     "end_time": "2020-10-23T11:21:21.569161Z",
     "start_time": "2020-10-23T11:21:21.562743Z"
    }
   },
   "outputs": [
    {
     "data": {
      "text/plain": [
       "(1973797, 18)"
      ]
     },
     "execution_count": 29,
     "metadata": {},
     "output_type": "execute_result"
    }
   ],
   "source": [
    "xs_data.shape"
   ]
  },
  {
   "cell_type": "code",
   "execution_count": 30,
   "metadata": {
    "ExecuteTime": {
     "end_time": "2020-10-23T11:21:22.546921Z",
     "start_time": "2020-10-23T11:21:22.521709Z"
    }
   },
   "outputs": [
    {
     "data": {
      "text/html": [
       "<div>\n",
       "<style scoped>\n",
       "    .dataframe tbody tr th:only-of-type {\n",
       "        vertical-align: middle;\n",
       "    }\n",
       "\n",
       "    .dataframe tbody tr th {\n",
       "        vertical-align: top;\n",
       "    }\n",
       "\n",
       "    .dataframe thead th {\n",
       "        text-align: right;\n",
       "    }\n",
       "</style>\n",
       "<table border=\"1\" class=\"dataframe\">\n",
       "  <thead>\n",
       "    <tr style=\"text-align: right;\">\n",
       "      <th></th>\n",
       "      <th>会员卡号</th>\n",
       "      <th>消费产生的时间</th>\n",
       "      <th>商品编码</th>\n",
       "      <th>销售数量</th>\n",
       "      <th>商品售价</th>\n",
       "      <th>消费金额</th>\n",
       "      <th>商品名称</th>\n",
       "      <th>此次消费的会员积分</th>\n",
       "      <th>收银机号</th>\n",
       "      <th>单据号</th>\n",
       "      <th>柜组编码</th>\n",
       "      <th>柜组名称</th>\n",
       "      <th>出生日期</th>\n",
       "      <th>性别</th>\n",
       "      <th>登记时间</th>\n",
       "      <th>时刻</th>\n",
       "      <th>月份</th>\n",
       "      <th>年份</th>\n",
       "    </tr>\n",
       "  </thead>\n",
       "  <tbody>\n",
       "    <tr>\n",
       "      <td>0</td>\n",
       "      <td>1be1e3fe</td>\n",
       "      <td>2015-01-01 00:05:41.593</td>\n",
       "      <td>f09c9303</td>\n",
       "      <td>1.0</td>\n",
       "      <td>290.0</td>\n",
       "      <td>270.20</td>\n",
       "      <td>兰芝化妆品正价瓶</td>\n",
       "      <td>270.20</td>\n",
       "      <td>6.0</td>\n",
       "      <td>25bb</td>\n",
       "      <td>8077.0</td>\n",
       "      <td>兰芝柜</td>\n",
       "      <td>NaT</td>\n",
       "      <td>NaN</td>\n",
       "      <td>NaT</td>\n",
       "      <td>0.0</td>\n",
       "      <td>1.0</td>\n",
       "      <td>2015</td>\n",
       "    </tr>\n",
       "    <tr>\n",
       "      <td>1</td>\n",
       "      <td>1be1e3fe</td>\n",
       "      <td>2015-01-01 00:05:41.593</td>\n",
       "      <td>f09c9303</td>\n",
       "      <td>1.0</td>\n",
       "      <td>325.0</td>\n",
       "      <td>302.80</td>\n",
       "      <td>兰芝化妆品正价瓶</td>\n",
       "      <td>302.80</td>\n",
       "      <td>6.0</td>\n",
       "      <td>25bb</td>\n",
       "      <td>8077.0</td>\n",
       "      <td>兰芝柜</td>\n",
       "      <td>NaT</td>\n",
       "      <td>NaN</td>\n",
       "      <td>NaT</td>\n",
       "      <td>0.0</td>\n",
       "      <td>1.0</td>\n",
       "      <td>2015</td>\n",
       "    </tr>\n",
       "    <tr>\n",
       "      <td>2</td>\n",
       "      <td>1be1e3fe</td>\n",
       "      <td>2015-01-01 00:05:41.593</td>\n",
       "      <td>f09c9303</td>\n",
       "      <td>1.0</td>\n",
       "      <td>195.0</td>\n",
       "      <td>181.80</td>\n",
       "      <td>兰芝化妆品正价瓶</td>\n",
       "      <td>181.80</td>\n",
       "      <td>6.0</td>\n",
       "      <td>25bb</td>\n",
       "      <td>8077.0</td>\n",
       "      <td>兰芝柜</td>\n",
       "      <td>NaT</td>\n",
       "      <td>NaN</td>\n",
       "      <td>NaT</td>\n",
       "      <td>0.0</td>\n",
       "      <td>1.0</td>\n",
       "      <td>2015</td>\n",
       "    </tr>\n",
       "    <tr>\n",
       "      <td>3</td>\n",
       "      <td>1be1e3fe</td>\n",
       "      <td>2015-01-01 00:05:41.593</td>\n",
       "      <td>f09c9303</td>\n",
       "      <td>1.0</td>\n",
       "      <td>270.0</td>\n",
       "      <td>251.55</td>\n",
       "      <td>兰芝化妆品正价瓶</td>\n",
       "      <td>251.55</td>\n",
       "      <td>6.0</td>\n",
       "      <td>25bb</td>\n",
       "      <td>8077.0</td>\n",
       "      <td>兰芝柜</td>\n",
       "      <td>NaT</td>\n",
       "      <td>NaN</td>\n",
       "      <td>NaT</td>\n",
       "      <td>0.0</td>\n",
       "      <td>1.0</td>\n",
       "      <td>2015</td>\n",
       "    </tr>\n",
       "    <tr>\n",
       "      <td>4</td>\n",
       "      <td>1be1e3fe</td>\n",
       "      <td>2015-01-01 00:05:41.593</td>\n",
       "      <td>f09c9303</td>\n",
       "      <td>2.0</td>\n",
       "      <td>245.0</td>\n",
       "      <td>456.55</td>\n",
       "      <td>兰芝化妆品正价瓶</td>\n",
       "      <td>456.55</td>\n",
       "      <td>6.0</td>\n",
       "      <td>25bb</td>\n",
       "      <td>8077.0</td>\n",
       "      <td>兰芝柜</td>\n",
       "      <td>NaT</td>\n",
       "      <td>NaN</td>\n",
       "      <td>NaT</td>\n",
       "      <td>0.0</td>\n",
       "      <td>1.0</td>\n",
       "      <td>2015</td>\n",
       "    </tr>\n",
       "  </tbody>\n",
       "</table>\n",
       "</div>"
      ],
      "text/plain": [
       "       会员卡号                 消费产生的时间      商品编码  销售数量   商品售价    消费金额      商品名称  \\\n",
       "0  1be1e3fe 2015-01-01 00:05:41.593  f09c9303   1.0  290.0  270.20  兰芝化妆品正价瓶   \n",
       "1  1be1e3fe 2015-01-01 00:05:41.593  f09c9303   1.0  325.0  302.80  兰芝化妆品正价瓶   \n",
       "2  1be1e3fe 2015-01-01 00:05:41.593  f09c9303   1.0  195.0  181.80  兰芝化妆品正价瓶   \n",
       "3  1be1e3fe 2015-01-01 00:05:41.593  f09c9303   1.0  270.0  251.55  兰芝化妆品正价瓶   \n",
       "4  1be1e3fe 2015-01-01 00:05:41.593  f09c9303   2.0  245.0  456.55  兰芝化妆品正价瓶   \n",
       "\n",
       "   此次消费的会员积分  收银机号   单据号    柜组编码 柜组名称 出生日期  性别 登记时间   时刻   月份    年份  \n",
       "0     270.20   6.0  25bb  8077.0  兰芝柜  NaT NaN  NaT  0.0  1.0  2015  \n",
       "1     302.80   6.0  25bb  8077.0  兰芝柜  NaT NaN  NaT  0.0  1.0  2015  \n",
       "2     181.80   6.0  25bb  8077.0  兰芝柜  NaT NaN  NaT  0.0  1.0  2015  \n",
       "3     251.55   6.0  25bb  8077.0  兰芝柜  NaT NaN  NaT  0.0  1.0  2015  \n",
       "4     456.55   6.0  25bb  8077.0  兰芝柜  NaT NaN  NaT  0.0  1.0  2015  "
      ]
     },
     "execution_count": 30,
     "metadata": {},
     "output_type": "execute_result"
    }
   ],
   "source": [
    "xs_data.head()"
   ]
  },
  {
   "cell_type": "code",
   "execution_count": 31,
   "metadata": {
    "ExecuteTime": {
     "end_time": "2020-10-23T11:21:25.539532Z",
     "start_time": "2020-10-23T11:21:23.514325Z"
    }
   },
   "outputs": [],
   "source": [
    "## 划分会员与非会员数据\n",
    "vip = xs_data[xs_data['会员卡号'].notnull()]# 提取会员数据\n",
    "vip_data = vip.dropna() # 剔除基本信息为空的会员数据\n",
    "nvip = xs_data[~xs_data['会员卡号'].notnull()]"
   ]
  },
  {
   "cell_type": "code",
   "execution_count": 32,
   "metadata": {
    "ExecuteTime": {
     "end_time": "2020-10-23T11:21:26.876587Z",
     "start_time": "2020-10-23T11:21:26.869989Z"
    }
   },
   "outputs": [
    {
     "data": {
      "text/plain": [
       "(979257, 18)"
      ]
     },
     "execution_count": 32,
     "metadata": {},
     "output_type": "execute_result"
    }
   ],
   "source": [
    "vip.shape"
   ]
  },
  {
   "cell_type": "code",
   "execution_count": 33,
   "metadata": {
    "ExecuteTime": {
     "end_time": "2020-10-23T11:21:27.898211Z",
     "start_time": "2020-10-23T11:21:27.885342Z"
    }
   },
   "outputs": [
    {
     "data": {
      "text/plain": [
       "(440557, 18)"
      ]
     },
     "execution_count": 33,
     "metadata": {},
     "output_type": "execute_result"
    }
   ],
   "source": [
    "vip_data.shape"
   ]
  },
  {
   "cell_type": "code",
   "execution_count": 34,
   "metadata": {
    "ExecuteTime": {
     "end_time": "2020-10-23T11:21:28.837431Z",
     "start_time": "2020-10-23T11:21:28.823639Z"
    }
   },
   "outputs": [
    {
     "data": {
      "text/plain": [
       "(994540, 18)"
      ]
     },
     "execution_count": 34,
     "metadata": {},
     "output_type": "execute_result"
    }
   ],
   "source": [
    "nvip.shape"
   ]
  },
  {
   "cell_type": "code",
   "execution_count": 35,
   "metadata": {
    "ExecuteTime": {
     "end_time": "2020-10-23T11:21:33.774440Z",
     "start_time": "2020-10-23T11:21:29.950204Z"
    }
   },
   "outputs": [
    {
     "data": {
      "image/png": "[encoded data removed]",
      "text/plain": [
       "<Figure size 432x288 with 1 Axes>"
      ]
     },
     "metadata": {},
     "output_type": "display_data"
    }
   ],
   "source": [
    "## 会员年龄可视化分析\n",
    "vip_data['年龄'] = vip_data['出生日期'].apply(lambda x: date.year-x.year)\n",
    "vip_data = vip_data[(vip_data['年龄']>=16) & (vip_data['年龄']<=90)]\n",
    "vip_data['年龄分段'] = pd.cut(vip_data.年龄, \n",
    "         [min(vip_data.年龄)-1, 35, 59, max(vip_data.年龄)+1], \n",
    "         labels=['青年', '中年', '老年'])\n",
    "age_counts = vip_data['年龄分段'].value_counts()\n",
    "plt.pie(age_counts, labels=age_counts.index, autopct='%.2f%%')\n",
    "plt.legend(bbox_to_anchor=(0.05, 1),ncol=1)\n",
    "plt.title('会员各年龄层占比')\n",
    "plt.show()"
   ]
  },
  {
   "cell_type": "code",
   "execution_count": 36,
   "metadata": {
    "ExecuteTime": {
     "end_time": "2020-10-23T11:21:35.603318Z",
     "start_time": "2020-10-23T11:21:35.184934Z"
    }
   },
   "outputs": [
    {
     "data": {
      "image/png": "[encoded data removed]",
      "text/plain": [
       "<Figure size 432x288 with 1 Axes>"
      ]
     },
     "metadata": {
      "needs_background": "light"
     },
     "output_type": "display_data"
    }
   ],
   "source": [
    "## 会员消费金额分析\n",
    "age_je= vip_data.groupby(by=['年龄'])['消费金额'].sum()\n",
    "age_je.plot()\n",
    "plt.ylabel('消费金额')\n",
    "plt.legend(bbox_to_anchor=(1, 1.15),ncol=1)\n",
    "plt.title('会员不同年龄消费金额占比')\n",
    "plt.show()"
   ]
  },
  {
   "cell_type": "code",
   "execution_count": 37,
   "metadata": {
    "ExecuteTime": {
     "end_time": "2020-10-23T11:21:36.936943Z",
     "start_time": "2020-10-23T11:21:36.633402Z"
    }
   },
   "outputs": [
    {
     "data": {
      "image/png": "[encoded data removed]",
      "text/plain": [
       "<Figure size 432x288 with 1 Axes>"
      ]
     },
     "metadata": {},
     "output_type": "display_data"
    },
    {
     "data": {
      "image/png": "[encoded data removed]",
      "text/plain": [
       "<Figure size 432x288 with 1 Axes>"
      ]
     },
     "metadata": {},
     "output_type": "display_data"
    }
   ],
   "source": [
    "## 会员性别分析\n",
    "sex_counts = vip_data['性别'].value_counts()\n",
    "sex_je = vip_data.groupby(by=['性别'])['消费金额'].sum()\n",
    "plt.pie(sex_counts, labels=['女', '男'], autopct='%.2f%%')\n",
    "plt.legend(bbox_to_anchor=(0.5, 1.15),ncol=2)\n",
    "plt.title('会员性别比例')\n",
    "plt.show()\n",
    "plt.pie(sex_je, labels=['女', '男'], autopct='%.2f%%')\n",
    "plt.legend(bbox_to_anchor=(0.5, 1.15),ncol=2)\n",
    "plt.title('会员不同性别消费金额比例')\n",
    "plt.show()"
   ]
  },
  {
   "cell_type": "markdown",
   "metadata": {},
   "source": [
    "### 分析会员的总订单占比，总消费金额占比等消费情况"
   ]
  },
  {
   "cell_type": "code",
   "execution_count": 38,
   "metadata": {
    "ExecuteTime": {
     "end_time": "2020-10-23T11:21:39.504179Z",
     "start_time": "2020-10-23T11:21:39.192527Z"
    }
   },
   "outputs": [
    {
     "data": {
      "image/png": "[encoded data removed]",
      "text/plain": [
       "<Figure size 432x288 with 1 Axes>"
      ]
     },
     "metadata": {},
     "output_type": "display_data"
    }
   ],
   "source": [
    "### 会员订单占比分析\n",
    "plt.pie([len(vip.单据号.unique()), len(nvip.单据号.unique())], \n",
    "        labels=[\"会员\", \"非会员\"], \n",
    "        autopct='%.2f%%')\n",
    "plt.legend(bbox_to_anchor=(0.05, 1),ncol=1)\n",
    "plt.title('会员与非会员订单占比')\n",
    "plt.show()"
   ]
  },
  {
   "cell_type": "code",
   "execution_count": 39,
   "metadata": {
    "ExecuteTime": {
     "end_time": "2020-10-23T11:21:42.002093Z",
     "start_time": "2020-10-23T11:21:41.853566Z"
    }
   },
   "outputs": [
    {
     "data": {
      "image/png": "[encoded data removed]",
      "text/plain": [
       "<Figure size 432x288 with 1 Axes>"
      ]
     },
     "metadata": {},
     "output_type": "display_data"
    }
   ],
   "source": [
    "### 会员消费金额占比\n",
    "plt.pie([vip_data.消费金额.sum(), nvip.消费金额.sum()], \n",
    "        labels=[\"会员\", \"非会员\"], \n",
    "        autopct='%.2f%%')\n",
    "plt.legend(bbox_to_anchor=(0.05, 1),ncol=1)\n",
    "plt.title('会员与非会员消费金额占比')\n",
    "plt.show()"
   ]
  },
  {
   "cell_type": "code",
   "execution_count": 40,
   "metadata": {
    "ExecuteTime": {
     "end_time": "2020-10-23T11:21:43.733710Z",
     "start_time": "2020-10-23T11:21:43.393560Z"
    },
    "scrolled": false
   },
   "outputs": [
    {
     "data": {
      "image/png": "[encoded data removed]",
      "text/plain": [
       "<Figure size 432x288 with 1 Axes>"
      ]
     },
     "metadata": {
      "needs_background": "light"
     },
     "output_type": "display_data"
    }
   ],
   "source": [
    "### 会员年消费额折线图\n",
    "v_ygrow = vip_data.groupby(by=['年份'])['消费金额'].sum()\n",
    "v_ygrow[:-1].plot()\n",
    "plt.ylabel('消费金额')\n",
    "plt.legend(bbox_to_anchor=(0.5, 1.15),ncol=2)\n",
    "plt.show()"
   ]
  },
  {
   "cell_type": "code",
   "execution_count": 41,
   "metadata": {
    "ExecuteTime": {
     "end_time": "2020-10-23T11:21:48.707908Z",
     "start_time": "2020-10-23T11:21:48.225729Z"
    },
    "scrolled": false
   },
   "outputs": [
    {
     "data": {
      "image/png": "[encoded data removed]",
      "text/plain": [
       "<Figure size 432x288 with 1 Axes>"
      ]
     },
     "metadata": {
      "needs_background": "light"
     },
     "output_type": "display_data"
    }
   ],
   "source": [
    "### 会员不同年份月消费额折线图\n",
    "v_mgrow = vip_data.groupby(by=['年份', '月份'])['消费金额'].sum()\n",
    "v_2015 = v_mgrow.xs('2015', level='年份').rename('je_2015')\n",
    "v_2016 = v_mgrow.xs('2016', level='年份').rename('je_2016')\n",
    "v_2017 = v_mgrow.xs('2017', level='年份').rename('je_2017')\n",
    "v_mgrow = pd.concat([v_2015, v_2016, v_2017], axis=1)\n",
    "# 对数据中的空值用线性差值进行填充\n",
    "v_mgrow = v_mgrow.interpolate()\n",
    "v_mgrow.plot()\n",
    "plt.ylabel('消费金额')\n",
    "plt.legend(bbox_to_anchor=(1, 1.15),ncol=3)\n",
    "plt.show()"
   ]
  },
  {
   "cell_type": "markdown",
   "metadata": {},
   "source": [
    "### 分别以季度和天为单位，分析不同时间段会员的消费时间偏好"
   ]
  },
  {
   "cell_type": "code",
   "execution_count": 42,
   "metadata": {
    "ExecuteTime": {
     "end_time": "2020-10-23T11:21:54.198219Z",
     "start_time": "2020-10-23T11:21:52.357033Z"
    }
   },
   "outputs": [
    {
     "data": {
      "image/png": "[encoded data removed]",
      "text/plain": [
       "<Figure size 432x288 with 1 Axes>"
      ]
     },
     "metadata": {
      "needs_background": "light"
     },
     "output_type": "display_data"
    }
   ],
   "source": [
    "## 会员一天中消费时段偏好\n",
    "v_data = vip_data[['会员卡号', '时刻', '月份', '年份']] # 提取会员每次消费的时间\n",
    "v_data = v_data.drop_duplicates()\n",
    "bins=[min(v_data.时刻)-1, 6, 10, 14, 18, max(v_data.时刻)+1]\n",
    "v_data['时段偏好'] = pd.cut(v_data.时刻, bins, labels=['凌晨', '早上', '中午', '下午', '晚上'])\n",
    "tp = v_data.groupby(by=['会员卡号'])['时段偏好'].value_counts()\n",
    "tp = tp.rename('counts')\n",
    "tp_max = tp.groupby(level=['会员卡号']).max()\n",
    "tp = tp.reset_index()\n",
    "tp_max = tp_max.reset_index()\n",
    "tp = tp.merge(tp_max)\n",
    "hour_count = v_data['时刻'].value_counts()\n",
    "hour_count = hour_count.sort_index()\n",
    "hour_count.plot()\n",
    "# plt.title('24小时消费情况折线图')\n",
    "plt.ylabel('消费人数')\n",
    "plt.xlabel('时刻')\n",
    "plt.xticks(hour_count.index)\n",
    "plt.legend(bbox_to_anchor=(0.5, 1.15),ncol=2)\n",
    "plt.show()\n",
    "vip_data = vip_data.merge(tp[['会员卡号', '时段偏好']]) # 将时段偏好合并到会员数据中"
   ]
  },
  {
   "cell_type": "code",
   "execution_count": 43,
   "metadata": {
    "ExecuteTime": {
     "end_time": "2020-10-23T11:22:36.306574Z",
     "start_time": "2020-10-23T11:22:30.732408Z"
    }
   },
   "outputs": [
    {
     "data": {
      "image/png": "[encoded data removed]",
      "text/plain": [
       "<Figure size 432x288 with 1 Axes>"
      ]
     },
     "metadata": {
      "needs_background": "light"
     },
     "output_type": "display_data"
    }
   ],
   "source": [
    "## 会员季节消费偏好\n",
    "bins = [0, 1, 2, 3, 4]\n",
    "v_data['季节偏好'] = pd.cut((v_data['月份']%12+3)//3, bins, labels=['冬', '春', '夏', '秋'])\n",
    "v_mpeople = v_data.groupby(by=['年份'])['季节偏好'].value_counts()\n",
    "v_2015 = v_mpeople.xs('2015', level='年份').rename('rs_2015')\n",
    "v_2016 = v_mpeople.xs('2016', level='年份').rename('rs_2016')\n",
    "v_2017 = v_mpeople.xs('2017', level='年份').rename('rs_2017')\n",
    "v_mpeople = pd.concat([v_2015, v_2016, v_2017], axis=1)\n",
    "# v_mpeople = v_mpeople.interpolate()\n",
    "v_mpeople.plot(kind='bar')\n",
    "plt.ylabel('消费人数')\n",
    "plt.xticks(rotation=30)\n",
    "plt.legend(bbox_to_anchor=(1, 1.15),ncol=3)\n",
    "plt.show()\n",
    "vip_data = vip_data.merge(v_data[['会员卡号', '季节偏好']]) # 将季节偏好合并到会员数据中"
   ]
  },
  {
   "cell_type": "code",
   "execution_count": 44,
   "metadata": {
    "ExecuteTime": {
     "end_time": "2020-10-23T11:22:47.423946Z",
     "start_time": "2020-10-23T11:22:47.410820Z"
    }
   },
   "outputs": [
    {
     "data": {
      "text/plain": [
       "(9660800, 22)"
      ]
     },
     "execution_count": 44,
     "metadata": {},
     "output_type": "execute_result"
    }
   ],
   "source": [
    "vip_data.shape"
   ]
  },
  {
   "cell_type": "code",
   "execution_count": 45,
   "metadata": {
    "ExecuteTime": {
     "end_time": "2020-10-23T11:29:42.580244Z",
     "start_time": "2020-10-23T11:22:58.340757Z"
    }
   },
   "outputs": [],
   "source": [
    "vip_data = vip_data.sort_values(by=['消费产生的时间']) # 将字段合并到会员数据中\n",
    "vip_data.to_csv('task2.csv', index=False, encoding='gbk') # 将会员数据输出保存"
   ]
  },
  {
   "cell_type": "code",
   "execution_count": 46,
   "metadata": {
    "ExecuteTime": {
     "end_time": "2020-10-23T11:29:44.685538Z",
     "start_time": "2020-10-23T11:29:44.633548Z"
    }
   },
   "outputs": [
    {
     "data": {
      "text/html": [
       "<div>\n",
       "<style scoped>\n",
       "    .dataframe tbody tr th:only-of-type {\n",
       "        vertical-align: middle;\n",
       "    }\n",
       "\n",
       "    .dataframe tbody tr th {\n",
       "        vertical-align: top;\n",
       "    }\n",
       "\n",
       "    .dataframe thead th {\n",
       "        text-align: right;\n",
       "    }\n",
       "</style>\n",
       "<table border=\"1\" class=\"dataframe\">\n",
       "  <thead>\n",
       "    <tr style=\"text-align: right;\">\n",
       "      <th></th>\n",
       "      <th>会员卡号</th>\n",
       "      <th>消费产生的时间</th>\n",
       "      <th>商品编码</th>\n",
       "      <th>销售数量</th>\n",
       "      <th>商品售价</th>\n",
       "      <th>消费金额</th>\n",
       "      <th>商品名称</th>\n",
       "      <th>此次消费的会员积分</th>\n",
       "      <th>收银机号</th>\n",
       "      <th>单据号</th>\n",
       "      <th>...</th>\n",
       "      <th>出生日期</th>\n",
       "      <th>性别</th>\n",
       "      <th>登记时间</th>\n",
       "      <th>时刻</th>\n",
       "      <th>月份</th>\n",
       "      <th>年份</th>\n",
       "      <th>年龄</th>\n",
       "      <th>年龄分段</th>\n",
       "      <th>时段偏好</th>\n",
       "      <th>季节偏好</th>\n",
       "    </tr>\n",
       "  </thead>\n",
       "  <tbody>\n",
       "    <tr>\n",
       "      <td>0</td>\n",
       "      <td>d8d36575</td>\n",
       "      <td>2015-01-01 00:06:38.313</td>\n",
       "      <td>d313ab1e</td>\n",
       "      <td>1.0</td>\n",
       "      <td>1760.0</td>\n",
       "      <td>1760.0</td>\n",
       "      <td>MARYLINGC件</td>\n",
       "      <td>1678.82</td>\n",
       "      <td>10.0</td>\n",
       "      <td>5858</td>\n",
       "      <td>...</td>\n",
       "      <td>1973-10-25</td>\n",
       "      <td>0.0</td>\n",
       "      <td>2007-08-12</td>\n",
       "      <td>0.0</td>\n",
       "      <td>1.0</td>\n",
       "      <td>2015</td>\n",
       "      <td>45</td>\n",
       "      <td>中年</td>\n",
       "      <td>晚上</td>\n",
       "      <td>冬</td>\n",
       "    </tr>\n",
       "    <tr>\n",
       "      <td>68</td>\n",
       "      <td>d8d36575</td>\n",
       "      <td>2015-01-01 00:06:38.313</td>\n",
       "      <td>50a2c4f5</td>\n",
       "      <td>1.0</td>\n",
       "      <td>899.0</td>\n",
       "      <td>899.0</td>\n",
       "      <td>汤普葛罗女鞋活动促销双</td>\n",
       "      <td>857.54</td>\n",
       "      <td>10.0</td>\n",
       "      <td>5858</td>\n",
       "      <td>...</td>\n",
       "      <td>1973-10-25</td>\n",
       "      <td>0.0</td>\n",
       "      <td>2007-08-12</td>\n",
       "      <td>0.0</td>\n",
       "      <td>1.0</td>\n",
       "      <td>2015</td>\n",
       "      <td>45</td>\n",
       "      <td>中年</td>\n",
       "      <td>晚上</td>\n",
       "      <td>春</td>\n",
       "    </tr>\n",
       "    <tr>\n",
       "      <td>67</td>\n",
       "      <td>d8d36575</td>\n",
       "      <td>2015-01-01 00:06:38.313</td>\n",
       "      <td>50a2c4f5</td>\n",
       "      <td>1.0</td>\n",
       "      <td>899.0</td>\n",
       "      <td>899.0</td>\n",
       "      <td>汤普葛罗女鞋活动促销双</td>\n",
       "      <td>857.54</td>\n",
       "      <td>10.0</td>\n",
       "      <td>5858</td>\n",
       "      <td>...</td>\n",
       "      <td>1973-10-25</td>\n",
       "      <td>0.0</td>\n",
       "      <td>2007-08-12</td>\n",
       "      <td>0.0</td>\n",
       "      <td>1.0</td>\n",
       "      <td>2015</td>\n",
       "      <td>45</td>\n",
       "      <td>中年</td>\n",
       "      <td>晚上</td>\n",
       "      <td>夏</td>\n",
       "    </tr>\n",
       "    <tr>\n",
       "      <td>66</td>\n",
       "      <td>d8d36575</td>\n",
       "      <td>2015-01-01 00:06:38.313</td>\n",
       "      <td>50a2c4f5</td>\n",
       "      <td>1.0</td>\n",
       "      <td>899.0</td>\n",
       "      <td>899.0</td>\n",
       "      <td>汤普葛罗女鞋活动促销双</td>\n",
       "      <td>857.54</td>\n",
       "      <td>10.0</td>\n",
       "      <td>5858</td>\n",
       "      <td>...</td>\n",
       "      <td>1973-10-25</td>\n",
       "      <td>0.0</td>\n",
       "      <td>2007-08-12</td>\n",
       "      <td>0.0</td>\n",
       "      <td>1.0</td>\n",
       "      <td>2015</td>\n",
       "      <td>45</td>\n",
       "      <td>中年</td>\n",
       "      <td>晚上</td>\n",
       "      <td>夏</td>\n",
       "    </tr>\n",
       "    <tr>\n",
       "      <td>65</td>\n",
       "      <td>d8d36575</td>\n",
       "      <td>2015-01-01 00:06:38.313</td>\n",
       "      <td>50a2c4f5</td>\n",
       "      <td>1.0</td>\n",
       "      <td>899.0</td>\n",
       "      <td>899.0</td>\n",
       "      <td>汤普葛罗女鞋活动促销双</td>\n",
       "      <td>857.54</td>\n",
       "      <td>10.0</td>\n",
       "      <td>5858</td>\n",
       "      <td>...</td>\n",
       "      <td>1973-10-25</td>\n",
       "      <td>0.0</td>\n",
       "      <td>2007-08-12</td>\n",
       "      <td>0.0</td>\n",
       "      <td>1.0</td>\n",
       "      <td>2015</td>\n",
       "      <td>45</td>\n",
       "      <td>中年</td>\n",
       "      <td>晚上</td>\n",
       "      <td>春</td>\n",
       "    </tr>\n",
       "  </tbody>\n",
       "</table>\n",
       "<p>5 rows × 22 columns</p>\n",
       "</div>"
      ],
      "text/plain": [
       "        会员卡号                 消费产生的时间      商品编码  销售数量    商品售价    消费金额  \\\n",
       "0   d8d36575 2015-01-01 00:06:38.313  d313ab1e   1.0  1760.0  1760.0   \n",
       "68  d8d36575 2015-01-01 00:06:38.313  50a2c4f5   1.0   899.0   899.0   \n",
       "67  d8d36575 2015-01-01 00:06:38.313  50a2c4f5   1.0   899.0   899.0   \n",
       "66  d8d36575 2015-01-01 00:06:38.313  50a2c4f5   1.0   899.0   899.0   \n",
       "65  d8d36575 2015-01-01 00:06:38.313  50a2c4f5   1.0   899.0   899.0   \n",
       "\n",
       "           商品名称  此次消费的会员积分  收银机号   单据号  ...       出生日期   性别       登记时间   时刻  \\\n",
       "0    MARYLINGC件    1678.82  10.0  5858  ... 1973-10-25  0.0 2007-08-12  0.0   \n",
       "68  汤普葛罗女鞋活动促销双     857.54  10.0  5858  ... 1973-10-25  0.0 2007-08-12  0.0   \n",
       "67  汤普葛罗女鞋活动促销双     857.54  10.0  5858  ... 1973-10-25  0.0 2007-08-12  0.0   \n",
       "66  汤普葛罗女鞋活动促销双     857.54  10.0  5858  ... 1973-10-25  0.0 2007-08-12  0.0   \n",
       "65  汤普葛罗女鞋活动促销双     857.54  10.0  5858  ... 1973-10-25  0.0 2007-08-12  0.0   \n",
       "\n",
       "     月份    年份  年龄 年龄分段  时段偏好 季节偏好  \n",
       "0   1.0  2015  45   中年    晚上    冬  \n",
       "68  1.0  2015  45   中年    晚上    春  \n",
       "67  1.0  2015  45   中年    晚上    夏  \n",
       "66  1.0  2015  45   中年    晚上    夏  \n",
       "65  1.0  2015  45   中年    晚上    春  \n",
       "\n",
       "[5 rows x 22 columns]"
      ]
     },
     "execution_count": 46,
     "metadata": {},
     "output_type": "execute_result"
    }
   ],
   "source": [
    "vip_data.head()"
   ]
  },
  {
   "cell_type": "markdown",
   "metadata": {},
   "source": [
    "## 建立会员用户画像"
   ]
  },
  {
   "cell_type": "markdown",
   "metadata": {},
   "source": [
    "### 构建会员用户基本特征标签"
   ]
  },
  {
   "cell_type": "code",
   "execution_count": 48,
   "metadata": {
    "ExecuteTime": {
     "end_time": "2020-10-23T11:33:34.120425Z",
     "start_time": "2020-10-23T11:32:22.977352Z"
    }
   },
   "outputs": [],
   "source": [
    "import os\n",
    "os.chdir(r'E:/pycharm codes/百货商场用户画像描绘与价值分析/data/data')\n",
    "import pandas as pd\n",
    "import numpy as np\n",
    "import warnings\n",
    "import matplotlib.pyplot as plt\n",
    "warnings.filterwarnings('ignore')\n",
    "plt.rcParams['font.sans-serif'] = ['SimHei']  # 用来正常显示中文标签\n",
    "plt.rcParams['axes.unicode_minus'] = False  # 用来正常显示负号\n",
    "plt.style.use('ggplot') # 定义绘图风格\n",
    "xs_data = pd.read_csv('task2.csv', encoding='gbk') # 读取数据\n",
    "# 日期数据处理\n",
    "xs_data['消费产生的时间'] = pd.to_datetime(xs_data['消费产生的时间'])\n",
    "xs_data['登记时间'] = pd.to_datetime(xs_data['登记时间'])\n",
    "date = xs_data['消费产生的时间'].max()\n",
    "xs_data['性别'] = xs_data['性别'].apply(lambda x:'男' if x>0 else '女')"
   ]
  },
  {
   "cell_type": "code",
   "execution_count": 49,
   "metadata": {
    "ExecuteTime": {
     "end_time": "2020-10-23T11:34:05.159779Z",
     "start_time": "2020-10-23T11:33:36.780404Z"
    }
   },
   "outputs": [],
   "source": [
    "# 计算会员积分\n",
    "jf = xs_data.groupby(by=['会员卡号']).agg({'此次消费的会员积分':np.sum})\n",
    "jf['会员积分'] = pd.cut(jf['此次消费的会员积分'], \n",
    "  [min(jf['此次消费的会员积分'])-1, 10000, 100000, max(jf['此次消费的会员积分'])+1], \n",
    "  labels=['积分低等级', '积分中等级', '积分高等级'])\n",
    "jf = jf.reset_index()\n",
    "xs_data = xs_data.merge(jf[['会员卡号', '会员积分']], on='会员卡号', how='outer')"
   ]
  },
  {
   "cell_type": "markdown",
   "metadata": {},
   "source": [
    "### 构建会员用户业务特征标签"
   ]
  },
  {
   "cell_type": "code",
   "execution_count": 50,
   "metadata": {
    "ExecuteTime": {
     "end_time": "2020-10-23T12:02:04.399867Z",
     "start_time": "2020-10-23T11:34:07.767278Z"
    }
   },
   "outputs": [],
   "source": [
    "# 计算会员入会程度 L\n",
    "xs_data['L'] = xs_data['登记时间'].apply(lambda x:(date-x).days/30)\n",
    "xs_data['入会程度'] = pd.cut(xs_data.L, \n",
    "       [min(xs_data.L)-1, 3, 12, max(xs_data.L)+1], \n",
    "       labels=['新用户', '中等用户', '老用户'])\n",
    "\n",
    "# 计算消费频率 F\n",
    "f = pd.pivot_table(xs_data[['会员卡号', '消费产生的时间']].drop_duplicates(), \n",
    "                   index='会员卡号', values='消费产生的时间', aggfunc='count')\n",
    "f.columns=['F']\n",
    "f = f.reset_index()\n",
    "f['消费频率'] = pd.cut(f.F, [min(f.F)-1, 6, 30, max(f.F)+1], \n",
    "labels=['低频消费', '中等频率消费', '高频消费'])\n",
    "\n",
    "# 计算消费水平 M\n",
    "levels = xs_data.groupby(by=['会员卡号']).agg({'消费金额':np.sum})\n",
    "levels['消费水平'] = pd.cut(levels.消费金额, \n",
    "      [min(levels.消费金额)-1, 10000, 100000, max(levels.消费金额)+1], \n",
    "       labels=['低消费水平', '中等消费水平', '高消费水平'])\n",
    "levels = levels.reset_index()\n",
    "levels.columns = ['会员卡号', 'M', '消费水平']\n",
    "\n",
    "# 会员平均每单消费额\n",
    "avg = f.merge(levels)\n",
    "avg['avg_m'] = avg['M']/avg['F']\n",
    "avg['平均每单价值'] = pd.cut(avg.avg_m, \n",
    "   [min(avg.avg_m)-1, 500, 3500, max(avg.avg_m)+1], \n",
    "   labels=['每单价值低', '每单价值一般', '每单价值高'])\n",
    "xs_data = xs_data.merge(avg[['会员卡号', 'F', '消费频率', \n",
    "                             '消费水平', 'M', '平均每单价值']], on='会员卡号')\n",
    "\n",
    "# 计算最近消费时间 R \n",
    "r = xs_data.groupby(by=['会员卡号'])['消费产生的时间'].max()\n",
    "r = r.reset_index()\n",
    "r['R'] = r['消费产生的时间'].apply(lambda x: (date-x).days+1)\n",
    "xs_data = xs_data.merge(r[['会员卡号', 'R']], on='会员卡号', how='outer')\n",
    "\n",
    "# 计算相邻两次消费最大时间间隔 D\n",
    "kh_counts = xs_data.groupby(by=['会员卡号'])['消费产生的时间'].value_counts()\n",
    "kh_counts = kh_counts.rename('counts')\n",
    "kh_counts = kh_counts.reset_index() \n",
    "time_cell=[]\n",
    "for i in kh_counts.会员卡号.value_counts().index:\n",
    "    d = kh_counts[kh_counts['会员卡号']==i]\n",
    "    if len(d)>1:\n",
    "        d = d.sort_values(by=['消费产生的时间'])\n",
    "        d.index = range(len(d))\n",
    "        x=[]\n",
    "        for i in range(len(d)-1):\n",
    "            x.append((d.loc[i+1, '消费产生的时间'] - d.loc[i, '消费产生的时间']).days+1)\n",
    "        d['D'] = max(x)\n",
    "    else:\n",
    "        d['D'] = 0 \n",
    "    time_cell.append(d)\n",
    "time_cell = pd.concat(time_cell)\n",
    "time_cell['购买周期'] = None\n",
    "time_cell['购买周期'][(time_cell['D']<=15) & (time_cell['D']!=0)]='短周期'\n",
    "time_cell['购买周期'][(time_cell['D']>=15) & (time_cell['D']<180)]='中等周期'\n",
    "time_cell['购买周期'][(time_cell['D']>180) | (time_cell['D']==0)]='长周期'\n",
    "time_cell = time_cell[['会员卡号', 'D', '购买周期']].drop_duplicates()\n",
    "xs_data = xs_data.merge(time_cell[['会员卡号', 'D', '购买周期']], on='会员卡号', how='outer')"
   ]
  },
  {
   "cell_type": "markdown",
   "metadata": {},
   "source": [
    "### 会员用户兴趣特征"
   ]
  },
  {
   "cell_type": "code",
   "execution_count": 51,
   "metadata": {
    "ExecuteTime": {
     "end_time": "2020-10-23T13:12:25.604489Z",
     "start_time": "2020-10-23T13:11:49.414120Z"
    }
   },
   "outputs": [],
   "source": [
    "# 计算会员购物偏好\n",
    "gz_p = xs_data.groupby(by=['会员卡号'])['柜组名称'].value_counts()\n",
    "gz_p = gz_p.rename('counts')\n",
    "gz_p = gz_p.reset_index()\n",
    "gz_count = gz_p.groupby(by=['会员卡号'])['counts'].max().reset_index()\n",
    "gz_p = gz_p.merge(gz_count)\n",
    "gz_p.columns = ['会员卡号', '商品偏好', 'counts']\n",
    "xs_data = xs_data.merge(gz_p[['会员卡号', '商品偏好']], on='会员卡号', how='outer')"
   ]
  },
  {
   "cell_type": "code",
   "execution_count": 52,
   "metadata": {
    "ExecuteTime": {
     "end_time": "2020-10-23T13:17:20.100143Z",
     "start_time": "2020-10-23T13:16:53.366851Z"
    }
   },
   "outputs": [],
   "source": [
    "data = xs_data[['会员卡号', 'F', 'R', 'M', 'D', '性别', '年龄', '年龄分段', '会员积分',\n",
    "                '时段偏好', '季节偏好', '入会程度', '消费水平', \n",
    "                '消费频率', '平均每单价值', '商品偏好', '购买周期']]\n",
    "data = data.drop_duplicates()\n",
    "data.to_csv('task3.csv', index=False, encoding='gbk')"
   ]
  },
  {
   "cell_type": "markdown",
   "metadata": {},
   "source": [
    "### 构建用户画像"
   ]
  },
  {
   "cell_type": "code",
   "execution_count": 53,
   "metadata": {
    "ExecuteTime": {
     "end_time": "2020-10-23T13:26:14.152355Z",
     "start_time": "2020-10-23T13:26:07.529876Z"
    }
   },
   "outputs": [
    {
     "data": {
      "text/plain": [
       "<matplotlib.image.AxesImage at 0x24231450d88>"
      ]
     },
     "execution_count": 53,
     "metadata": {},
     "output_type": "execute_result"
    },
    {
     "data": {
      "image/png": "[encoded data removed]",
      "text/plain": [
       "<Figure size 432x288 with 1 Axes>"
      ]
     },
     "metadata": {},
     "output_type": "display_data"
    }
   ],
   "source": [
    "import os\n",
    "os.chdir(r'E:/pycharm codes/百货商场用户画像描绘与价值分析/data/data')\n",
    "import pandas as pd\n",
    "import wordcloud\n",
    "import warnings\n",
    "import matplotlib.pyplot as plt\n",
    "warnings.filterwarnings('ignore')\n",
    "data = pd.read_csv('task3.csv', encoding='gbk')\n",
    "sample = data[data['会员卡号'] == '7ff6682d']\n",
    "sample['年龄'] = sample['年龄'].astype(str)+'岁'\n",
    "sample = sample[['会员卡号', '性别', '年龄','年龄分段', '时段偏好', \n",
    "                 '季节偏好', '入会程度', '消费频率', 'R',\n",
    "                 '消费水平', '平均每单价值', '商品偏好', '购买周期']]\n",
    "sample['R'] = sample['R'].astype(str)+'天'\n",
    "sample['季节偏好'] = sample['季节偏好']+'季消费'\n",
    "sample['时段偏好'] = sample['时段偏好']+'消费'\n",
    "words_count=[]\n",
    "for i in sample.columns:\n",
    "    x=sample[i].value_counts()\n",
    "    words_count.append(x)\n",
    "words_count = pd.concat(words_count)\n",
    "words_count = words_count[words_count>0]\n",
    "words_count = words_count.reset_index()\n",
    "dic = {x[0]:x[1] for x in words_count.loc[:,:].values}\n",
    "wc= wordcloud.WordCloud(scale=16, font_path='simhei.ttf', \n",
    "                        background_color='white',colormap=\"coolwarm\")\n",
    "X = wc.generate_from_frequencies(dic)\n",
    "plt.axis('off')\n",
    "plt.imshow(X)"
   ]
  },
  {
   "cell_type": "markdown",
   "metadata": {},
   "source": [
    "## 会员精细划分"
   ]
  },
  {
   "cell_type": "code",
   "execution_count": 55,
   "metadata": {
    "ExecuteTime": {
     "end_time": "2020-10-23T14:11:58.227768Z",
     "start_time": "2020-10-23T14:11:57.235407Z"
    }
   },
   "outputs": [
    {
     "data": {
      "image/png": "[encoded data removed]",
      "text/plain": [
       "<Figure size 432x432 with 1 Axes>"
      ]
     },
     "metadata": {},
     "output_type": "display_data"
    }
   ],
   "source": [
    "import os\n",
    "os.chdir(r'E:/pycharm codes/百货商场用户画像描绘与价值分析/data/data')\n",
    "import pandas as pd\n",
    "import numpy as np\n",
    "import warnings\n",
    "import matplotlib.pyplot as plt\n",
    "from sklearn.preprocessing import StandardScaler\n",
    "from sklearn.cluster import KMeans\n",
    "warnings.filterwarnings('ignore')\n",
    "plt.rcParams['font.sans-serif'] = ['SimHei']  # 用来正常显示中文标签\n",
    "plt.rcParams['axes.unicode_minus'] = False  # 用来正常显示负号\n",
    "plt.style.use('ggplot') # 定义绘图风格\n",
    "data = pd.read_csv('task3.csv', encoding='gbk') # 导入数据\n",
    "vip_data = data[['会员卡号', 'R', 'F', 'M', '入会程度']].drop_duplicates()\n",
    "vip_data.columns = ['会员卡号', 'R', 'F', 'M', 'L']\n",
    "sc = StandardScaler()\n",
    "vip_feature = vip_data.loc[:, ['R', 'F', 'M', 'L']]\n",
    "def subdata(x=None):\n",
    "    if x == '老用户':\n",
    "        return 2\n",
    "    elif x == '中等用户':\n",
    "        return 1\n",
    "    else:\n",
    "        return 0\n",
    "vip_feature['L'] = vip_feature['L'].apply(subdata)\n",
    "vip_feature = sc.fit_transform(vip_feature)\n",
    "model = KMeans(n_clusters=4,random_state=0,max_iter=500)\n",
    "fit_model =  model.fit(vip_feature)\n",
    "# 给每个会员添加聚类类别\n",
    "k_lables = fit_model.labels_\n",
    "results = pd.Series(k_lables, index=vip_data['会员卡号'])\n",
    "results\n",
    "results.rename('聚类类别', inplace=True)\n",
    "data.merge(results.reset_index())\n",
    "#聚类中心\n",
    "# print('聚类中心\\n',model.cluster_centers_)\n",
    "# print('类别\\n',pd.Series(model.labels_).value_counts())\n",
    "data11 = model.cluster_centers_\n",
    "angles = np.linspace(0,2*np.pi,4,endpoint=False)\n",
    "angles = np.concatenate((angles,[angles[0]]))\n",
    "centers = model.cluster_centers_\n",
    "plot_data = np.concatenate((centers,centers[:,[0]]),axis=1)\n",
    "label = ['R','F','M', 'L']\n",
    "fig = plt.figure(figsize=(6,6))\n",
    "ax = fig.add_subplot(111,polar = True)\n",
    "for i in range(len(plot_data)):\n",
    "    ax.plot(angles, plot_data[i], 'o-', label='会员群体'+str(i+1))\n",
    "    ax.set_thetagrids(angles*180/np.pi, label)\n",
    "plt.legend(bbox_to_anchor=(0.5, 1.15),ncol=2)\n",
    "plt.show()"
   ]
  }
 ],
 "metadata": {
  "kernelspec": {
   "display_name": "Python 3",
   "language": "python",
   "name": "python3"
  },
  "language_info": {
   "codemirror_mode": {
    "name": "ipython",
    "version": 3
   },
   "file_extension": ".py",
   "mimetype": "text/x-python",
   "name": "python",
   "nbconvert_exporter": "python",
   "pygments_lexer": "ipython3",
   "version": "3.7.4"
  },
  "toc": {
   "base_numbering": 1,
   "nav_menu": {},
   "number_sections": true,
   "sideBar": true,
   "skip_h1_title": false,
   "title_cell": "Table of Contents",
   "title_sidebar": "Contents",
   "toc_cell": false,
   "toc_position": {
    "height": "calc(100% - 180px)",
    "left": "10px",
    "top": "150px",
    "width": "307.2px"
   },
   "toc_section_display": true,
   "toc_window_display": true
  }
 },
 "nbformat": 4,
 "nbformat_minor": 2
}
